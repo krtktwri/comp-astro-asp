{
 "cells": [
  {
   "cell_type": "code",
   "execution_count": 2,
   "metadata": {},
   "outputs": [],
   "source": [
    "import numpy as np \n",
    "from modules.approximations import *\n",
    "from modules.surfaceintegration import *\n",
    "from modules.myconstants import *\n",
    "from modules.polarizationtransport import *\n",
    "import matplotlib.pyplot as plt"
   ]
  },
  {
   "cell_type": "code",
   "execution_count": 7,
   "metadata": {},
   "outputs": [],
   "source": [
    "# Initializing Arrays\n",
    "phaseRange = np.arange(0, 2*np.pi, 0.1)"
   ]
  },
  {
   "cell_type": "code",
   "execution_count": 3,
   "metadata": {},
   "outputs": [],
   "source": [
    "# create a neutron star object\n",
    "class star:\n",
    "  def __init__(self, R, M, eta, i, B_p):\n",
    "    self.radius = R  # in terms of schwarzschild radius\n",
    "    self.mass = M    # in terms of solar masses\n",
    "    self.eta = np.rad2deg(eta)   # angle between magnetic axis and spin axis\n",
    "    self.i = np.rad2deg(i)       # angle between LOS and spin axis\n",
    "    self.B_p = B_p   # magnetic field strength at the poles (in 10^12 Gauss)"
   ]
  },
  {
   "cell_type": "code",
   "execution_count": 4,
   "metadata": {},
   "outputs": [],
   "source": [
    "NS1 = star(3, 1.6, 45, 45, 1)"
   ]
  },
  {
   "cell_type": "code",
   "execution_count": 8,
   "metadata": {},
   "outputs": [],
   "source": [
    "NS1Obs1 = [stokes(m, NS1, 1) for m in phaseRange]\n",
    "I_NS1Obs1 = [F_I(m, NS1, 1) for m in phaseRange]\n",
    "obs1 = np.transpose(NS1Obs1)"
   ]
  }
 ],
 "metadata": {
  "kernelspec": {
   "display_name": "Python 3",
   "language": "python",
   "name": "python3"
  },
  "language_info": {
   "codemirror_mode": {
    "name": "ipython",
    "version": 3
   },
   "file_extension": ".py",
   "mimetype": "text/x-python",
   "name": "python",
   "nbconvert_exporter": "python",
   "pygments_lexer": "ipython3",
   "version": "3.10.6"
  },
  "orig_nbformat": 4,
  "vscode": {
   "interpreter": {
    "hash": "1b0e4b647bfbe3d72c6d34907f4acb1d300c333033ea949beab6567bf3a811d4"
   }
  }
 },
 "nbformat": 4,
 "nbformat_minor": 2
}
